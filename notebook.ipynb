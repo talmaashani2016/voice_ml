{
 "cells": [
  {
   "cell_type": "code",
   "execution_count": 2,
   "metadata": {},
   "outputs": [
    {
     "name": "stderr",
     "output_type": "stream",
     "text": [
      "/home/dmbs/.local/lib/python3.8/site-packages/torch/cuda/__init__.py:83: UserWarning: CUDA initialization: The NVIDIA driver on your system is too old (found version 6050). Please update your GPU driver by downloading and installing a new version from the URL: http://www.nvidia.com/Download/index.aspx Alternatively, go to: https://pytorch.org to install a PyTorch version that has been compiled with your version of the CUDA driver. (Triggered internally at  ../c10/cuda/CUDAFunctions.cpp:109.)\n",
      "  return torch._C._cuda_getDeviceCount() > 0\n"
     ]
    }
   ],
   "source": [
    "import torch \n",
    "import numpy as np \n",
    "import matplotlib.pyplot as plt \n",
    "import torchaudio \n",
    "from torch.utils.data import Dataset, DataLoader\n",
    "import os \n",
    "from pathlib import Path\n",
    "from torchvision.utils import save_image\n",
    "from PIL import Image\n",
    "import torchvision.transforms as T\n"
   ]
  },
  {
   "cell_type": "code",
   "execution_count": 5,
   "metadata": {},
   "outputs": [],
   "source": [
    "\n",
    "classes = ['teens','twenties','thirties','fourties','fifties','sixties','seventies'] \n",
    "\n",
    "def load_audio_data (path, label):\n",
    "    dataset=[]\n",
    "    walker = sorted(str(p) for p in Path(path).glob(f'*.wav'))\n",
    "    for i , file_path in enumerate (walker):\n",
    "        data = dict()\n",
    "        path, filename = os.path.split(file_path)\n",
    "        speaker, _ = os.path.splitext (filename)\n",
    "        _, speaker_id = speaker.split(\"_en_\")\n",
    "        waveform, sample_rate = torchaudio.load (file_path)\n",
    "        data['waveform'] = waveform\n",
    "        data['sample_rate'] = sample_rate\n",
    "        data['label'] = label\n",
    "        data['speaker_id'] = speaker_id\n",
    "\n",
    "\n",
    "        dataset.append(data)\n",
    "    return dataset\n",
    "class MyDataset(Dataset):\n",
    "    def __init__(self, label):\n",
    "        super(MyDataset, self).__init__()\n",
    "        self.data=load_audio_data(f'input/data/{label}', label)\n",
    "\n",
    "    def __getitem__(self,item):\n",
    "        return self.data[item]\n",
    "\n",
    "    def __len__(self):\n",
    "        return len(self.data)\n",
    "# def dataloader (labels, batch_size):\n",
    "#     dataloaders = dict()\n",
    "#     for label in labels:\n",
    "#          dataset = MyDataset(label)\n",
    "#          dataloaders[label] = DataLoader(dataset = dataset, batch_size = batch_size, shuffle = True, collate_fn = lambda i: i, num_workers =1)\n",
    "    #return dataloaders\n",
    "if __name__ == \"__main__\":\n",
    "    data = MyDataset('teens')\n",
    "    waveform = data[2]['waveform']\n",
    "    speaker_id = data[2]['speaker_id']\n",
    "    print(\"shape of wave form , \", waveform.size)\n",
    "    spectrogram_tensor = torchaudio.transforms.Spectrogram()(waveform)\n",
    "    #save_image(spectrogram_tensor, 'input/data/Spectrograms/{}.png'.format(speaker_id))\n",
    "    # print (\"shape of the spectrogram: {}\".format(spectrogram_tensor.size()))\n",
    "    # fig= plt.figure()\n",
    "    plt.figure()\n",
    "    plt.imsave('input/data/{}.png',spectrogram_tensor.log2()[0,:,:].numpy(), vmin=-100, vmax= 0, cmap ='gray')\n",
    "    # plt.imshow (spectrogram_tensor.log2()[0,:,:].numpy(), cmap='gray')\n",
    "    # plt.show()\n",
    "    # plt.savefig('input/data/{}.png'.format(speaker_id),bbox_inches= \"tight\", pad_inches =0.0)\n",
    "    # plt.close(fig)\n",
    "    #save_image(spectrogram_tensor,'input/data/{}.png'.format(speaker_id) )\n",
    "   "
   ]
  },
  {
   "cell_type": "code",
   "execution_count": null,
   "metadata": {},
   "outputs": [],
   "source": []
  }
 ],
 "metadata": {
  "kernelspec": {
   "display_name": "Python 3.8.10 64-bit",
   "language": "python",
   "name": "python3"
  },
  "language_info": {
   "codemirror_mode": {
    "name": "ipython",
    "version": 3
   },
   "file_extension": ".py",
   "mimetype": "text/x-python",
   "name": "python",
   "nbconvert_exporter": "python",
   "pygments_lexer": "ipython3",
   "version": "3.8.10"
  },
  "orig_nbformat": 4,
  "vscode": {
   "interpreter": {
    "hash": "31f2aee4e71d21fbe5cf8b01ff0e069b9275f58929596ceb00d14d90e3e16cd6"
   }
  }
 },
 "nbformat": 4,
 "nbformat_minor": 2
}
